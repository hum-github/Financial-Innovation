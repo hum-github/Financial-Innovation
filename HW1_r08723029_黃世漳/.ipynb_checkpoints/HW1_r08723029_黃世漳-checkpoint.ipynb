{
 "cells": [
  {
   "cell_type": "markdown",
   "metadata": {},
   "source": [
    "## 題目\n",
    "### Collect at least two customized rule-based patterns with indices.\n",
    "詳見完整講義"
   ]
  },
  {
   "cell_type": "markdown",
   "metadata": {},
   "source": [
    "### 一、程式碼"
   ]
  },
  {
   "cell_type": "markdown",
   "metadata": {},
   "source": [
    "* 所有檔案: util_pattern.py、 Process.py、Detect.py、Main.py"
   ]
  },
  {
   "cell_type": "markdown",
   "metadata": {},
   "source": [
    "#### 1. util_pattern.py"
   ]
  },
  {
   "cell_type": "code",
   "execution_count": 1,
   "metadata": {},
   "outputs": [
    {
     "name": "stderr",
     "output_type": "stream",
     "text": [
      "C:\\ProgramData\\Anaconda3\\lib\\site-packages\\mpl_finance.py:16: DeprecationWarning: \n",
      "\n",
      "  =================================================================\n",
      "\n",
      "   WARNING: `mpl_finance` is deprecated:\n",
      "\n",
      "    Please use `mplfinance` instead (no hyphen, no underscore).\n",
      "\n",
      "    To install: `pip install --upgrade mplfinance` \n",
      "\n",
      "   For more information, see: https://pypi.org/project/mplfinance/\n",
      "\n",
      "  =================================================================\n",
      "\n",
      "  __warnings.warn('\\n\\n  ================================================================='+\n"
     ]
    }
   ],
   "source": [
    "import pandas as pd\n",
    "import numpy as np\n",
    "from sklearn.linear_model import LinearRegression\n",
    "import matplotlib.pyplot as plt\n",
    "import mpl_finance as mpf\n",
    "\n",
    "\n",
    "def pattern(df, signal, timeScale, path):         \n",
    "    # 設定xy軸座標值、圖片標題大小       \n",
    "    fontsize = 15\n",
    "    plt.rcParams['xtick.labelsize'] = fontsize  \n",
    "    plt.rcParams['ytick.labelsize'] = fontsize \n",
    "    plt.rcParams['axes.titlesize'] = fontsize           \n",
    "\n",
    "    # 設定圖片的大小\n",
    "    fig = plt.figure(figsize=(18, 12))\n",
    "    ax = plt.subplot2grid((1, 1), (0, 0))          \n",
    "\n",
    "    # 設定圖片背景為網格\n",
    "    plt.grid()\n",
    "\n",
    "    # 將x座標軸數值設為日期\n",
    "    ax.set_xticks(range(10))\n",
    "    ax.set_xticklabels(df['date'])      \n",
    "\n",
    "    # 將x坐標軸數值旋轉45度\n",
    "    locs, labels = plt.xticks() \n",
    "    plt.setp(labels , rotation = 45)\n",
    "\n",
    "    # 繪出前幾根K棒的趨勢線\n",
    "    global end_idx\n",
    "    if signal == ('EveningStar' or 'MorningStar'):\n",
    "        end_idx = 7\n",
    "    elif signal == ('ShootingStar' or 'InvertHammer'):\n",
    "        end_idx = 9\n",
    "    elif signal == ('BearishHarami' or 'BearishEngulfing' or 'BullishHarami' or 'BullishEngulfing' or 'BullishPinBar' or \"BearishPinBar\"):\n",
    "        end_idx = 8 \n",
    "    y = df['close'].iloc[0: end_idx].values.reshape(-1, 1)\n",
    "    x = np.array(range(1, end_idx + 1)).reshape(-1, 1)\n",
    "    model = LinearRegression()\n",
    "    model.fit(x, y)\n",
    "    y_pred = model.predict(x)        \n",
    "    ax.plot(y_pred, label='Trend')          \n",
    "\n",
    "    # 繪出k棒 \n",
    "    arr = np.c_[range(df.shape[0]), df[['open', 'high', 'low', 'close']].values]\n",
    "    mpf.candlestick_ohlc(ax, arr, width=0.4, alpha=1, colordown='#53c156', colorup='#ff1717')    \n",
    "\n",
    "    # 設定圖例位置與大小\n",
    "    ax.legend(loc = 'best', prop = {'size': fontsize})\n",
    "\n",
    "    # 設定圖片標題名字\n",
    "    title_name = signal + '_' + timeScale\n",
    "    ax.set_title(title_name)\n",
    "\n",
    "    # 上調整個圖片的位置\n",
    "    fig.subplots_adjust(bottom = 0.35)\n",
    "\n",
    "    # # 儲存圖片\n",
    "    # name = path + '/' + signal + '_' + timeScale + '.png'\n",
    "    # plt.savefig(name)     \n",
    "    \n",
    "    # 印出圖片\n",
    "    plt.show()\n",
    "\n",
    "    # 不要印出圖片\n",
    "    # plt.close('all')  "
   ]
  },
  {
   "cell_type": "markdown",
   "metadata": {},
   "source": [
    "#### Process.py"
   ]
  },
  {
   "cell_type": "code",
   "execution_count": 2,
   "metadata": {},
   "outputs": [],
   "source": [
    "import pandas as pd\n",
    "import numpy as np\n",
    "from scipy import stats\n",
    "from sklearn.linear_model import LinearRegression\n",
    "\n",
    "\n",
    "class Process(object):\n",
    "    def __init__(self, filename, timeScale):\n",
    "        self.data = pd.read_csv(filename)\n",
    "        self.timeScale = timeScale\n",
    "\n",
    "\n",
    "    def preprocessing(self):\n",
    "        # 將欄位名稱全部轉成小寫\n",
    "        for i in self.data.columns.values:\n",
    "            self.data.rename(columns={i : i.lower()}, inplace=True)       \n",
    "        # 將日期從名目轉成時間尺度，並將其設為索引\n",
    "        self.data['timestamp'] = pd.to_datetime(self.data['date'], format=\"%d.%m.%Y %H:%M:%S.%f\")\n",
    "        self.data.set_index('timestamp', inplace=True)\n",
    "\n",
    "    \n",
    "    def timeConvert(self):\n",
    "        # 將資料的時間尺度轉成分鐘資料\n",
    "        df = pd.DataFrame(self.data['date'])\n",
    "        df['low'] = self.data['low'].resample(self.timeScale, label='right', closed='right').min()\n",
    "        df['high'] = self.data['high'].resample(self.timeScale, label='right', closed='right').max()\n",
    "        df['close'] = self.data['close'].resample(self.timeScale, label='right', closed='right').last()\n",
    "        df['open'] = self.data['open'].resample(self.timeScale, label='right', closed='right').first()\n",
    "        self.data = df[1:-1]\n",
    "        self.data.dropna(inplace=True)\n",
    "    \n",
    "\n",
    "    def percentile(self, series):\n",
    "        t = series.iloc[-1]\n",
    "        p = stats.percentileofscore(series, t, kind='strict')    \n",
    "        return p\n",
    "\n",
    "\n",
    "    def addFeature(self):\n",
    "        # realbody: k棒長度，close - open\n",
    "        # direction: k棒漲跌，realbody 的正負號\n",
    "        # ushadow_width: 上引線長度，恆為正。如果k棒下跌，為high - open；如果k棒上跌，為high - close\n",
    "        # lshadow_width: 下引線長度，恆為正。如果k棒下跌，為close - low；如果k棒上跌，為open - low\n",
    "        # ushadow_per: 上引線長度在前50根k棒中的PR值\n",
    "        # lshadow_per: 下引線長度在前50根k棒中的PR值\n",
    "        # realbody_per: K棒長度在前50根k棒中的PR值\n",
    "        self.data['realbody'] = self.data['close'] - self.data['open']\n",
    "        self.data['direction'] = np.sign(self.data['realbody'])\n",
    "        self.data['ushadow_width'], self.data['lshadow_width'] = 0, 0\n",
    "        self.data.loc[self.data['realbody'] <= 0, 'ushadow_width'] = self.data.loc[self.data['realbody'] <= 0, 'high'] - self.data.loc[self.data['realbody'] <= 0, 'open']\n",
    "        self.data.loc[self.data['realbody'] > 0, 'ushadow_width'] = self.data.loc[self.data['realbody'] > 0, 'high'] - self.data.loc[self.data['realbody'] > 0, 'close']\n",
    "        self.data.loc[self.data['realbody'] <= 0, 'lshadow_width'] = self.data.loc[self.data['realbody'] <= 0, 'close'] - self.data.loc[self.data['realbody'] <= 0, 'low']\n",
    "        self.data.loc[self.data['realbody'] > 0, 'lshadow_width'] = self.data.loc[self.data['realbody'] > 0, 'open'] - self.data.loc[self.data['realbody'] > 0, 'low']\n",
    "        self.data['ushadow_per'] = self.data['ushadow_width'].rolling(50).apply(self.percentile, raw=False)\n",
    "        self.data['lshadow_per'] = self.data['lshadow_width'].rolling(50).apply(self.percentile, raw=False)\n",
    "        self.data['realbody_per'] = abs(self.data['realbody']).rolling(50).apply(self.percentile, raw=False)        \n",
    "        self.data.dropna(inplace = True)\n",
    "        return self.data"
   ]
  },
  {
   "cell_type": "markdown",
   "metadata": {},
   "source": [
    "#### 3. Detect.py"
   ]
  },
  {
   "cell_type": "code",
   "execution_count": 3,
   "metadata": {},
   "outputs": [],
   "source": [
    "import pandas as pd\n",
    "import numpy as np\n",
    "from sklearn.linear_model import LinearRegression\n",
    "from tqdm import tqdm\n",
    "\n",
    "\n",
    "class Detect(object):\n",
    "    def __init__(self, filename):\n",
    "        self.data = pd.read_csv(filename)\n",
    "        self.timeScale = None\n",
    "    \n",
    "\n",
    "    def trending(self, series):\n",
    "        # 以線性回歸的斜率決定趨勢，斜率為正，趨勢為正向，輸出1；反之為趨勢為負向，輸出-1。\n",
    "        # 斜率為0，輸出0\n",
    "        y = series.values.reshape(-1,1)\n",
    "        x = np.array(range(1, series.shape[0] + 1)).reshape(-1,1)\n",
    "        model = LinearRegression()\n",
    "        model.fit(x, y)\n",
    "        slope = model.coef_\n",
    "        if slope > 0:\n",
    "            return 1\n",
    "        elif slope == 0:\n",
    "            return 0\n",
    "        else:\n",
    "            return -1\n",
    "    \n",
    "\n",
    "    def eveningStar(self, df):\n",
    "        # 1. 前7根趨勢為正\n",
    "        # 2. 第8根上漲\n",
    "        # 3. 第10根下跌\n",
    "        # 4. 第8根長度在前50根中PR值大於等於65\n",
    "        # 5. 第9根長度在前50根中PR值小於等於35\n",
    "        # 6. 第10根收盤價小於第8根body中央\n",
    "        # 7. 第8根收盤價小於第9根body中央\n",
    "        # 8. 第10根開盤價小於第9根body中央\n",
    "        cond1 = (df['trend7'].iloc[-4] > 0)\n",
    "        cond2 = (df['direction'].iloc[-3] > 0)\n",
    "        cond3 = (df['direction'].iloc[-1] < 0)\n",
    "        cond4 = (df['realbody_per'].iloc[-3] >= 65)\n",
    "        cond5 = (df['realbody_per'].iloc[-2] <= 35)\n",
    "        cond6 = (df['close'].iloc[-1] <= (df['open'].iloc[-3] + df['realbody'].iloc[-3] * (1/2)))\n",
    "        cond7 = (df['close'].iloc[-3] <= (df['open'].iloc[-2] + df['realbody'].iloc[-2] * (1/2)))\n",
    "        cond8 = (df['open'].iloc[-1] <= (df['open'].iloc[-2] + df['realbody'].iloc[-2] * (1/2)))\n",
    "        if cond1 and cond2 and cond3 and cond4 and cond5 and cond6 and cond7 and cond8:\n",
    "            return True\n",
    "        else:\n",
    "            return False\n",
    "    \n",
    "\n",
    "    def morningStar(self, df):\n",
    "        # 1. 前7根趨勢為負\n",
    "        # 2. 第8根下跌\n",
    "        # 3. 第10根上漲\n",
    "        # 4. 第8根長度在前50根中PR值大於等於65\n",
    "        # 5. 第9根長度在前50根中PR值小於等於35\n",
    "        # 6. 第10根收盤價大於第8根body中央\n",
    "        # 7. 第8根收盤價大於第9根body中央\n",
    "        # 8. 第10根開盤價大於第9根body中央\n",
    "        cond1 = (df['trend7'].iloc[-4] < 0)\n",
    "        cond2 = (df['direction'].iloc[-3] < 0)\n",
    "        cond3 = (df['direction'].iloc[-1] > 0)\n",
    "        cond4 = (df['realbody_per'].iloc[-3] >= 65)\n",
    "        cond5 = (df['realbody_per'].iloc[-2] <= 35)\n",
    "        cond6 = (df['close'].iloc[-1] >= (df['open'].iloc[-3] + df['realbody'].iloc[-3] * (1/2)))\n",
    "        cond7 = (df['close'].iloc[-3] >= (df['open'].iloc[-2] + df['realbody'].iloc[-2] * (1/2)))\n",
    "        cond8 = (df['open'].iloc[-1] >= (df['open'].iloc[-2] + df['realbody'].iloc[-2] * (1/2)))\n",
    "        if cond1 and cond2 and cond3 and cond4 and cond5 and cond6 and cond7 and cond8:\n",
    "            return True\n",
    "        else:\n",
    "            return False\n",
    "\n",
    "\n",
    "    def shootingStar(self, df):\n",
    "        # 1. 前9根趨勢為正\n",
    "        # 2. 第9根上漲\n",
    "        # 3. 第9根長度在前50根中PR值大於等於65\n",
    "        # 4. 第10根上影線長度大於其body長度的兩倍\n",
    "        # 5. 第10根開盤或收盤價(較小者)大於等於第9根中央\n",
    "        # 6. 第10根下影線長度在前50根中PR值小於25\n",
    "        # 7. 第10根上影線長度在前50根中PR值大於65\n",
    "        cond1 = (df['trend9'].iloc[-2] > 0)\n",
    "        cond2 = (df['direction'].iloc[-2] > 0)\n",
    "        cond3 = (df['realbody_per'].iloc[-2] >= 65)\n",
    "        cond4 = (df['ushadow_width'].iloc[-1] >= 2 * abs(df['realbody'].iloc[-1]))\n",
    "        cond5 = (min(df['open'].iloc[-1], df['close'].iloc[-1]) >= (df['open'].iloc[-2] + df['realbody'].iloc[-2] * (1/2)))\n",
    "        cond6 = (df['lshadow_per'].iloc[-1] <= 25)\n",
    "        cond7 = (df['ushadow_per'].iloc[-1] >= 65)\n",
    "        if cond1 and cond2 and cond3 and cond4 and cond5 and cond6 and cond7:\n",
    "            return True\n",
    "        else:\n",
    "            return False\n",
    "    \n",
    "\n",
    "    def invertHammer(self, df):\n",
    "        # 1. 前9根趨勢為負\n",
    "        # 2. 第9根下跌\n",
    "        # 3. 第9根長度在前50根中PR值大於等於65\n",
    "        # 4. 第10根上影線長度大於其body長度的兩倍\n",
    "        # 5. 第10根開盤或收盤價(較大者)小於等於第9根中央\n",
    "        # 6. 第10根下影線長度在前50根中PR值小於25\n",
    "        # 7. 第10根上影線長度在前50根中PR值大於65\n",
    "        cond1 = (df['trend9'].iloc[-2] < 0)\n",
    "        cond2 = (df['direction'].iloc[-2] < 0)\n",
    "        cond3 = (df['realbody_per'].iloc[-2] >= 65)\n",
    "        cond4 = (df['ushadow_width'].iloc[-1] >= 2 * abs(df['realbody'].iloc[-1]))\n",
    "        cond5 = (max(df['open'].iloc[-1], df['close'].iloc[-1]) <= (df['open'].iloc[-2] + df['realbody'].iloc[-2] * (1/2)))\n",
    "        cond6 = (df['lshadow_per'].iloc[-1] <= 25)\n",
    "        cond7 = (df['ushadow_per'].iloc[-1] >= 65)\n",
    "        if cond1 and cond2 and cond3 and cond4 and cond5 and cond6 and cond7:\n",
    "            return True\n",
    "        else:\n",
    "            return False\n",
    "\n",
    "\n",
    "    def bearishHarami(self, df):\n",
    "        # 1. 前8根趨勢為正\n",
    "        # 2. 第9根為上漲\n",
    "        # 3. 第10根下跌\n",
    "        # 4. 第9根長度在前50根中PR值大於等於65\n",
    "        # 5. 第10根開盤價小於第9根收盤價\n",
    "        # 6. 第10根收盤價大於第9根開盤價\n",
    "        # 7. 第10根長度在前50根中PR值大於等於65\n",
    "        # 8. 第10根收盤價小於等於第9根中央\n",
    "        cond1 = (df['trend8'].iloc[-3] > 0)\n",
    "        cond2 = (df['direction'].iloc[-2] > 0)\n",
    "        cond3 = (df['direction'].iloc[-1] < 0)\n",
    "        cond4 = (df['realbody_per'].iloc[-2] >= 65)\n",
    "        cond5 = (df['open'].iloc[-1] < df['close'].iloc[-2])\n",
    "        cond6 = (df['close'].iloc[-1] > df['open'].iloc[-2])\n",
    "        cond7 = (df['realbody_per'].iloc[-1] >= 65)\n",
    "        cond8 = (df['close'].iloc[-1] <= (df['open'].iloc[-2] + df['realbody'].iloc[-2] * (1/2)))\n",
    "        if cond1 and cond2 and cond3 and cond4 and cond5 and cond6 and cond7 and cond8:\n",
    "            return True\n",
    "        else:\n",
    "            return False\n",
    "\n",
    "        \n",
    "    def bearishEngulfing(self, df ):\n",
    "        #Note: 自己重新定義的\n",
    "        #1. 前7根趨勢為正\n",
    "        #2. 第9根的Close一定要大於/等於第9根的Open\n",
    "        #3. 第10根的Open一定要大於/等於第10根的Close\n",
    "        #4. 第9根的Close一定要大於/等於第10根的Open\n",
    "        #5. 第10跟的Close一定要大於/等於第9根的Open\n",
    "        cond1= (df['trend7'].iloc[-1]>0)\n",
    "        cond2= (df['close'].iloc[-2]>=df['open'].iloc[-2])\n",
    "        cond3= (df['close'].iloc[-1]<=df['open'].iloc[-1])\n",
    "        cond4= (df['close'].iloc[-2]<=df['open'].iloc[-1])\n",
    "        cond5= (df['close'].iloc[-1]<=df['open'].iloc[-2])\n",
    "        if cond1 and cond2 and cond3 and cond4 and cond5:\n",
    "            return True\n",
    "        else:\n",
    "            return False\n",
    "    \n",
    "\n",
    "    def bullishHarami(self, df):\n",
    "        # 1. 前8根趨勢為負\n",
    "        # 2. 第9根為下跌\n",
    "        # 3. 第10根上漲\n",
    "        # 4. 第9根長度在前50根中PR值大於等於65\n",
    "        # 5. 第10根開盤價大於第9根收盤價\n",
    "        # 6. 第10根收盤價小於第9根開盤價\n",
    "        # 7. 第10根長度在前50根中PR值大於等於65\n",
    "        # 8. 第10根收盤價大於等於第9根中央\n",
    "        cond1 = (df['trend8'].iloc[-3] < 0)\n",
    "        cond2 = (df['direction'].iloc[-2] < 0)\n",
    "        cond3 = (df['direction'].iloc[-1] > 0)\n",
    "        cond4 = (df['realbody_per'].iloc[-2] >= 65)\n",
    "        cond5 = (df['open'].iloc[-1] > df['close'].iloc[-2])\n",
    "        cond6 = (df['close'].iloc[-1] < df['open'].iloc[-2])\n",
    "        cond7 = (df['realbody_per'].iloc[-1] >= 65)\n",
    "        cond8 = (df['close'].iloc[-1] >= (df['open'].iloc[-2] + df['realbody'].iloc[-2] * (1/2)))\n",
    "        if cond1 and cond2 and cond3 and cond4 and cond5 and cond6 and cond7 and cond8:\n",
    "            return True\n",
    "        else:\n",
    "            return False\n",
    "\n",
    "\n",
    "    def bullishEngulfing(self, df):\n",
    "        #Note: 自己重新定義的\n",
    "        #1. 前7根趨勢為負\n",
    "        #2. 第9根的Close一定要大於/等於第9根的Open\n",
    "        #3. 第10根的Open一定要大於/等於第10根的Close\n",
    "        #4. 第9根的Close一定要大於/等於第10根的Open\n",
    "        #5. 第10跟的Close一定要大於/等於第9根的Open\n",
    "        cond1= (df['trend7'].iloc[-1]<0)\n",
    "        cond2= (df['close'].iloc[-2]<=df['open'].iloc[-2])\n",
    "        cond3= (df['close'].iloc[-1]>=df['open'].iloc[-1])\n",
    "        cond4= (df['close'].iloc[-2]>=df['open'].iloc[-1])\n",
    "        cond5= (df['close'].iloc[-1]>=df['open'].iloc[-2])\n",
    "        if cond1 and cond2 and cond3 and cond4 and cond5:\n",
    "            return True\n",
    "        else:\n",
    "            return False\n",
    "        \n",
    "    def bullishPinBar(self, df):\n",
    "        #1. 第十根的Close一定要大過/等於第十根的Open\n",
    "        #2. 第十根的Open一定要大過從High減掉1/3的High-Low\n",
    "        cond1=(df['close'].iloc[-1]>=df['open'].iloc[-1])\n",
    "        cond2=(df['open'].iloc[-1]>=(df['high'].iloc[-1]-((df['high'].iloc[-1]-df['low'].iloc[-1])/3)))\n",
    "        if cond1 and cond2:\n",
    "            return True\n",
    "        else:\n",
    "            return False\n",
    "\n",
    "    def bearishPinBar(self, df):\n",
    "        #1. 第十根的Close一定要小過/等於第十根的Open\n",
    "        #2. 第十根的Open一定要效果從Low加上1/3的High-Low\n",
    "        cond1=(df['close'].iloc[-1]<=df['open'].iloc[-1])\n",
    "        cond2=(df['open'].iloc[-1]<=(df['low'].iloc[-1]+((df['high'].iloc[-1]-df['low'].iloc[-1])/3)))\n",
    "        if cond1 and cond2:\n",
    "            return True\n",
    "        else:\n",
    "            return False\n",
    "        \n",
    "        \n",
    "    def process(self):\n",
    "        # 將日期從名目轉成時間尺度\n",
    "        self.data['date'] = pd.to_datetime(self.data['date'], format=\"%d.%m.%Y %H:%M:%S.%f\")\n",
    "        # 檢查時間尺度為何\n",
    "        if 60 <= (self.data['date'].iloc[1] - self.data['date'].iloc[0]).seconds < 1800 :\n",
    "            self.timeScale = '1m'\n",
    "        elif 1800 <= (self.data['date'].iloc[1] - self.data['date'].iloc[0]).seconds < 3600:\n",
    "            self.timeScale = '30m'\n",
    "        elif 3600 <= (self.data['date'].iloc[1] - self.data['date'].iloc[0]).seconds < 86400:\n",
    "            self.timeScale = '1H'\n",
    "        elif 1 <= (self.data['date'].iloc[1] - self.data['date'].iloc[0]).days < 7:\n",
    "            self.timeScale = '1D'\n",
    "        elif (self.data['date'].iloc[1] - self.data['date'].iloc[0]).days >= 7:\n",
    "            self.timeScale = '1W'\n",
    "        # 新增欲偵測的交易訊號\n",
    "        self.data['EveningStar'] = 0\n",
    "        self.data['MorningStar'] = 0\n",
    "        self.data['ShootingStar'] = 0\n",
    "        self.data['InvertHammer'] = 0\n",
    "        self.data['BearishHarami'] = 0\n",
    "        self.data['BearishEngulfing'] = 0\n",
    "        self.data['BullishHarami'] = 0\n",
    "        self.data['BullishEngulfing'] = 0\n",
    "        self.data['BullishPinBar']=0\n",
    "        self.data['BearishPinBar']=0\n",
    "        self.data['None'] = 0\n",
    "    \n",
    "\n",
    "    def trend(self):\n",
    "        # 以線性回歸的斜率分別計算前7, 8, 9根k棒的趨勢，斜率大於0則趨勢為正，位於趨勢線最尾端的資料的欄位值為1；反之則為-1\n",
    "        self.data['trend7'] = self.data['close'].rolling(7).apply(self.trending, raw=False)\n",
    "        self.data['trend8'] = self.data['close'].rolling(8).apply(self.trending, raw=False)\n",
    "        self.data['trend9'] = self.data['close'].rolling(9).apply(self.trending, raw=False)\n",
    "\n",
    "\n",
    "    def signal(self):\n",
    "        # 以10根k棒為單位進行偵測，如符合特定交易訊號，則第10根k棒在該交易訊號的欄位的值為1，反之為0\n",
    "        # 如均不符合任何交易訊號，則第10根k棒在None的欄位值為1\n",
    "        for idx in tqdm(self.data.index):\n",
    "            start_idx, end_idx = (idx - 9), idx\n",
    "            if start_idx >= 0:\n",
    "                df = self.data.loc[start_idx:end_idx]\n",
    "                if self.eveningStar(df):\n",
    "                    self.data.loc[end_idx, 'EveningStar'] = 1\n",
    "                elif self.morningStar(df):\n",
    "                    self.data.loc[end_idx, 'MorningStar'] = 1\n",
    "                elif self.shootingStar(df):\n",
    "                    self.data.loc[end_idx, 'ShootingStar'] = 1\n",
    "                elif self.invertHammer(df):\n",
    "                    self.data.loc[end_idx, 'InvertHammer'] = 1\n",
    "                elif self.bearishHarami(df):\n",
    "                    self.data.loc[end_idx, 'BearishHarami'] = 1\n",
    "                elif self.bearishEngulfing(df):\n",
    "                    self.data.loc[end_idx, 'BearishEngulfing'] = 1\n",
    "                elif self.bullishHarami(df):\n",
    "                    self.data.loc[end_idx, 'BullishHarami'] = 1\n",
    "                elif self.bullishEngulfing(df):\n",
    "                    self.data.loc[end_idx, 'BullishEngulfing'] = 1\n",
    "                elif self.bullishPinBar(df):\n",
    "                    self.data.loc[end_idx, 'BullishPinBar']=1\n",
    "                elif self.bearishPinBar(df):\n",
    "                    self.data.loc[end_idx, 'BearishPinBar']=1\n",
    "                else:\n",
    "                    self.data.loc[end_idx, 'None'] = 1\n",
    "        return self.data\n",
    "    \n",
    "\n",
    "    def result(self):\n",
    "        # 印出每個交易訊號下偵測到幾個pattern\n",
    "        print('Time Scale: %s' % (self.timeScale))\n",
    "        print('Period: %s - %s' % (self.data['date'].iloc[9], self.data['date'].iloc[-1]))\n",
    "        print('The Number of Patterns in Each Signal:')\n",
    "        print('None: {}'.format(self.data.loc[self.data['None'] == 1, 'None'].shape[0]))\n",
    "     #   print('EveningStar: {}'.format(self.data.loc[self.data['EveningStar'] == 1, 'EveningStar'].shape[0]))                   \n",
    "     #   print('MorningStar: {}'.format(self.data.loc[self.data['MorningStar'] == 1, 'MorningStar'].shape[0]))\n",
    "     #   print('ShootingStar: {}'.format(self.data.loc[self.data['ShootingStar'] == 1, 'ShootingStar'].shape[0]))\n",
    "     #   print('InvertHammer: {}'.format(self.data.loc[self.data['InvertHammer'] == 1, 'InvertHammer'].shape[0]))\n",
    "     #   print('BearishHarami: {}'.format(self.data.loc[self.data['BearishHarami'] == 1, 'BearishHarami'].shape[0]))\n",
    "        print('BearishEngulfing: {}'.format(self.data.loc[self.data['BearishEngulfing'] == 1, 'BearishEngulfing'].shape[0]))        \n",
    "     #   print('BullishHarami: {}'.format(self.data.loc[self.data['BullishHarami'] == 1, 'BullishHarami'].shape[0]))\n",
    "        print('BullishEngulfing: {}'.format(self.data.loc[self.data['BullishEngulfing'] == 1, 'BullishEngulfing'].shape[0]))\n",
    "        print('BullishPinBar: {}'.format(self.data.loc[self.data['BullishPinBar'] == 1, 'BullishPinBar'].shape[0]))\n",
    "        print('BearishPinBar: {}'.format(self.data.loc[self.data['BearishPinBar'] == 1, 'BearishPinBar'].shape[0]))\n",
    "        "
   ]
  },
  {
   "cell_type": "markdown",
   "metadata": {},
   "source": [
    "#### 4. Main.py"
   ]
  },
  {
   "cell_type": "code",
   "execution_count": 4,
   "metadata": {},
   "outputs": [],
   "source": [
    "import os\n",
    "import pandas as pd\n",
    "from tqdm import tqdm\n",
    "from random import sample \n",
    "\n",
    "from Process import Process\n",
    "from Detect import Detect\n",
    "from util_pattern import pattern\n",
    "\n",
    "pd.set_option('display.max_columns', 1000)"
   ]
  },
  {
   "cell_type": "code",
   "execution_count": 5,
   "metadata": {},
   "outputs": [],
   "source": [
    "class Main(object):\n",
    "    def __init__(self, filename_raw, filename_pro, filename_rule, pattern_path, timeScale):\n",
    "        self.data_pro_df = None\n",
    "        self.data_rule_df = None\n",
    "        self.filename_raw = filename_raw\n",
    "        self.filename_pro = filename_pro\n",
    "        self.filename_rule = filename_rule\n",
    "        self.pattern_path = pattern_path\n",
    "        self.timeScale = timeScale\n",
    "    \n",
    "\n",
    "    def save(self, data, filename, file_format):\n",
    "        # 儲存csv和pickle檔\n",
    "        if file_format == 'csv':\n",
    "            data.to_csv(filename, index = False)\n",
    "        elif file_format == 'pickle':\n",
    "            with open(filename, 'wb+') as f:\n",
    "                pickle.dump(data, f)\n",
    "\n",
    "\n",
    "    def load(self, filename, file_format):\n",
    "        # 載入csv和pickle檔\n",
    "        if file_format == 'csv':\n",
    "            data = pd.read_csv(filename)\n",
    "            return data\n",
    "        elif file_format == 'pickle':\n",
    "            with open(filename, 'rb') as f:\n",
    "                data = pickle.load(f)\n",
    "            return data\n",
    "\n",
    "\n",
    "    def process(self):\n",
    "        # 呼叫process.py檔，做資料前處理\n",
    "        Pro = Process(self.filename_raw, self.timeScale)\n",
    "        Pro.preprocessing()\n",
    "        Pro.timeConvert()\n",
    "        self.data_pro_df = Pro.addFeature()\n",
    "        self.save(self.data_pro_df, self.filename_pro, 'csv')\n",
    "    \n",
    "\n",
    "    def detect(self):\n",
    "        # 呼叫Detect.py檔，做rule-base偵測\n",
    "        Det = Detect(self.filename_pro)\n",
    "        Det.process()\n",
    "        Det.trend()\n",
    "        self.data_rule_df = Det.signal()\n",
    "        Det.result()\n",
    "        self.save(self.data_rule_df, self.filename_rule, 'csv')\n",
    "    \n",
    "\n",
    "    def graph(self, signal, num_pattern = 1):\n",
    "        # 繪出符合交易訊號的pattern\n",
    "        data_df = self.load(self.filename_rule, 'csv')\n",
    "        idx_signal_ls = list(data_df.loc[data_df[signal] == 1].index)\n",
    "        idx_signal_sample_ls = sample(idx_signal_ls, num_pattern)\n",
    "        for idx in tqdm(idx_signal_sample_ls):\n",
    "            idx_start, idx_end = (idx - 9), idx\n",
    "            df = data_df.loc[idx_start:idx_end]\n",
    "            path = self.pattern_path + '/' + str(signal)\n",
    "            pattern(df, signal, self.timeScale, path)"
   ]
  },
  {
   "cell_type": "markdown",
   "metadata": {},
   "source": [
    "### 二、執行"
   ]
  },
  {
   "cell_type": "code",
   "execution_count": 6,
   "metadata": {},
   "outputs": [],
   "source": [
    "filename_raw = r'D:\\Users\\PC\\Desktop\\Google Drive\\109-1\\金融創新\\HW 1\\HW1_ID_姓名3\\data\\eurusd_2010_2017.csv'\n",
    "filename_pro = r'D:\\Users\\PC\\Desktop\\Google Drive\\109-1\\金融創新\\HW 1\\HW1_ID_姓名3\\data\\eurusd_2010_2017_1T.csv'\n",
    "filename_rule = r'D:\\Users\\PC\\Desktop\\Google Drive\\109-1\\金融創新\\HW 1\\HW1_ID_姓名3\\data\\eurusd_2010_2017_1T_rulebase.csv'\n",
    "pattern_path = r'D:\\Users\\PC\\Desktop\\Google Drive\\109-1\\金融創新\\HW 1\\HW1_ID_姓名3\\data\\pattern'\n",
    "timeScale = '1min'\n",
    "signal_ls = ['EveningStar', 'MorningStar', 'ShootingStar', \n",
    "             'InvertHammer', 'BearishHarami', 'BearishEngulfing',\n",
    "             'BullishHarami', 'BullishEngulfing', 'BullishPinBar', 'BearishPinBar']"
   ]
  },
  {
   "cell_type": "code",
   "execution_count": 7,
   "metadata": {},
   "outputs": [],
   "source": [
    "M =  Main(filename_raw, filename_pro, filename_rule, pattern_path, timeScale)"
   ]
  },
  {
   "cell_type": "markdown",
   "metadata": {},
   "source": [
    "#### 1. Data Processing"
   ]
  },
  {
   "cell_type": "markdown",
   "metadata": {},
   "source": [
    "- 將欄位名稱全部轉成小寫\n",
    "- 將資料的時間尺度轉成分鐘資料\n",
    "- 新增欄位:  \n",
    "realbody: k棒長度，close - open  \n",
    "direction: k棒漲跌，realbody 的正負號  \n",
    "ushadow_width: 上引線長度，恆為正。如果k棒下跌，為high - open；如果k棒上跌，為high - close  \n",
    "lshadow_width: 下引線長度，恆為正。如果k棒下跌，為close - low；如果k棒上跌，為open - low  \n",
    "ushadow_per: 上引線長度在前50根k棒中的PR值  \n",
    "lshadow_per: 下引線長度在前50根k棒中的PR值  \n",
    "realbody_per: K棒長度在前50根k棒中的PR值  \n",
    "- 儲存做完前處理的csv檔"
   ]
  },
  {
   "cell_type": "code",
   "execution_count": 8,
   "metadata": {},
   "outputs": [
    {
     "name": "stderr",
     "output_type": "stream",
     "text": [
      "D:\\Users\\PC\\Desktop\\Google Drive\\109-1\\金融創新\\HW 1\\HW1_ID_姓名3\\Process.py:30: SettingWithCopyWarning: \n",
      "A value is trying to be set on a copy of a slice from a DataFrame\n",
      "\n",
      "See the caveats in the documentation: https://pandas.pydata.org/pandas-docs/stable/user_guide/indexing.html#returning-a-view-versus-a-copy\n",
      "  self.data.dropna(inplace=True)\n"
     ]
    }
   ],
   "source": [
    "M.process()"
   ]
  },
  {
   "cell_type": "code",
   "execution_count": 9,
   "metadata": {},
   "outputs": [
    {
     "data": {
      "text/html": [
       "<div>\n",
       "<style scoped>\n",
       "    .dataframe tbody tr th:only-of-type {\n",
       "        vertical-align: middle;\n",
       "    }\n",
       "\n",
       "    .dataframe tbody tr th {\n",
       "        vertical-align: top;\n",
       "    }\n",
       "\n",
       "    .dataframe thead th {\n",
       "        text-align: right;\n",
       "    }\n",
       "</style>\n",
       "<table border=\"1\" class=\"dataframe\">\n",
       "  <thead>\n",
       "    <tr style=\"text-align: right;\">\n",
       "      <th></th>\n",
       "      <th>date</th>\n",
       "      <th>low</th>\n",
       "      <th>high</th>\n",
       "      <th>close</th>\n",
       "      <th>open</th>\n",
       "      <th>realbody</th>\n",
       "      <th>direction</th>\n",
       "      <th>ushadow_width</th>\n",
       "      <th>lshadow_width</th>\n",
       "      <th>ushadow_per</th>\n",
       "      <th>lshadow_per</th>\n",
       "      <th>realbody_per</th>\n",
       "    </tr>\n",
       "    <tr>\n",
       "      <th>timestamp</th>\n",
       "      <th></th>\n",
       "      <th></th>\n",
       "      <th></th>\n",
       "      <th></th>\n",
       "      <th></th>\n",
       "      <th></th>\n",
       "      <th></th>\n",
       "      <th></th>\n",
       "      <th></th>\n",
       "      <th></th>\n",
       "      <th></th>\n",
       "      <th></th>\n",
       "    </tr>\n",
       "  </thead>\n",
       "  <tbody>\n",
       "    <tr>\n",
       "      <th>2010-01-01 00:52:00</th>\n",
       "      <td>01.01.2010 00:52:00.000</td>\n",
       "      <td>1.43266</td>\n",
       "      <td>1.43281</td>\n",
       "      <td>1.43275</td>\n",
       "      <td>1.43272</td>\n",
       "      <td>0.00003</td>\n",
       "      <td>1.0</td>\n",
       "      <td>0.00006</td>\n",
       "      <td>0.00006</td>\n",
       "      <td>78.0</td>\n",
       "      <td>70.0</td>\n",
       "      <td>16.0</td>\n",
       "    </tr>\n",
       "    <tr>\n",
       "      <th>2010-01-01 00:53:00</th>\n",
       "      <td>01.01.2010 00:53:00.000</td>\n",
       "      <td>1.43269</td>\n",
       "      <td>1.43285</td>\n",
       "      <td>1.43274</td>\n",
       "      <td>1.43272</td>\n",
       "      <td>0.00002</td>\n",
       "      <td>1.0</td>\n",
       "      <td>0.00011</td>\n",
       "      <td>0.00003</td>\n",
       "      <td>92.0</td>\n",
       "      <td>44.0</td>\n",
       "      <td>8.0</td>\n",
       "    </tr>\n",
       "    <tr>\n",
       "      <th>2010-01-01 00:54:00</th>\n",
       "      <td>01.01.2010 00:54:00.000</td>\n",
       "      <td>1.43278</td>\n",
       "      <td>1.43292</td>\n",
       "      <td>1.43278</td>\n",
       "      <td>1.43285</td>\n",
       "      <td>-0.00007</td>\n",
       "      <td>-1.0</td>\n",
       "      <td>0.00007</td>\n",
       "      <td>0.00000</td>\n",
       "      <td>84.0</td>\n",
       "      <td>0.0</td>\n",
       "      <td>46.0</td>\n",
       "    </tr>\n",
       "    <tr>\n",
       "      <th>2010-01-01 00:55:00</th>\n",
       "      <td>01.01.2010 00:55:00.000</td>\n",
       "      <td>1.43278</td>\n",
       "      <td>1.43291</td>\n",
       "      <td>1.43285</td>\n",
       "      <td>1.43278</td>\n",
       "      <td>0.00007</td>\n",
       "      <td>1.0</td>\n",
       "      <td>0.00006</td>\n",
       "      <td>0.00000</td>\n",
       "      <td>72.0</td>\n",
       "      <td>0.0</td>\n",
       "      <td>44.0</td>\n",
       "    </tr>\n",
       "    <tr>\n",
       "      <th>2010-01-01 00:56:00</th>\n",
       "      <td>01.01.2010 00:56:00.000</td>\n",
       "      <td>1.43277</td>\n",
       "      <td>1.43290</td>\n",
       "      <td>1.43282</td>\n",
       "      <td>1.43284</td>\n",
       "      <td>-0.00002</td>\n",
       "      <td>-1.0</td>\n",
       "      <td>0.00006</td>\n",
       "      <td>0.00005</td>\n",
       "      <td>70.0</td>\n",
       "      <td>58.0</td>\n",
       "      <td>8.0</td>\n",
       "    </tr>\n",
       "    <tr>\n",
       "      <th>...</th>\n",
       "      <td>...</td>\n",
       "      <td>...</td>\n",
       "      <td>...</td>\n",
       "      <td>...</td>\n",
       "      <td>...</td>\n",
       "      <td>...</td>\n",
       "      <td>...</td>\n",
       "      <td>...</td>\n",
       "      <td>...</td>\n",
       "      <td>...</td>\n",
       "      <td>...</td>\n",
       "      <td>...</td>\n",
       "    </tr>\n",
       "    <tr>\n",
       "      <th>2012-11-28 04:31:00</th>\n",
       "      <td>28.11.2012 04:31:00.000</td>\n",
       "      <td>1.29319</td>\n",
       "      <td>1.29337</td>\n",
       "      <td>1.29325</td>\n",
       "      <td>1.29324</td>\n",
       "      <td>0.00001</td>\n",
       "      <td>1.0</td>\n",
       "      <td>0.00012</td>\n",
       "      <td>0.00005</td>\n",
       "      <td>92.0</td>\n",
       "      <td>64.0</td>\n",
       "      <td>6.0</td>\n",
       "    </tr>\n",
       "    <tr>\n",
       "      <th>2012-11-28 04:32:00</th>\n",
       "      <td>28.11.2012 04:32:00.000</td>\n",
       "      <td>1.29314</td>\n",
       "      <td>1.29339</td>\n",
       "      <td>1.29330</td>\n",
       "      <td>1.29326</td>\n",
       "      <td>0.00004</td>\n",
       "      <td>1.0</td>\n",
       "      <td>0.00009</td>\n",
       "      <td>0.00012</td>\n",
       "      <td>88.0</td>\n",
       "      <td>96.0</td>\n",
       "      <td>50.0</td>\n",
       "    </tr>\n",
       "    <tr>\n",
       "      <th>2012-11-28 04:33:00</th>\n",
       "      <td>28.11.2012 04:33:00.000</td>\n",
       "      <td>1.29323</td>\n",
       "      <td>1.29338</td>\n",
       "      <td>1.29326</td>\n",
       "      <td>1.29328</td>\n",
       "      <td>-0.00002</td>\n",
       "      <td>-1.0</td>\n",
       "      <td>0.00010</td>\n",
       "      <td>0.00003</td>\n",
       "      <td>88.0</td>\n",
       "      <td>58.0</td>\n",
       "      <td>24.0</td>\n",
       "    </tr>\n",
       "    <tr>\n",
       "      <th>2012-11-28 04:34:00</th>\n",
       "      <td>28.11.2012 04:34:00.000</td>\n",
       "      <td>1.29326</td>\n",
       "      <td>1.29336</td>\n",
       "      <td>1.29334</td>\n",
       "      <td>1.29326</td>\n",
       "      <td>0.00008</td>\n",
       "      <td>1.0</td>\n",
       "      <td>0.00002</td>\n",
       "      <td>0.00000</td>\n",
       "      <td>58.0</td>\n",
       "      <td>0.0</td>\n",
       "      <td>86.0</td>\n",
       "    </tr>\n",
       "    <tr>\n",
       "      <th>2012-11-28 04:35:00</th>\n",
       "      <td>28.11.2012 04:35:00.000</td>\n",
       "      <td>1.29331</td>\n",
       "      <td>1.29339</td>\n",
       "      <td>1.29334</td>\n",
       "      <td>1.29333</td>\n",
       "      <td>0.00001</td>\n",
       "      <td>1.0</td>\n",
       "      <td>0.00005</td>\n",
       "      <td>0.00002</td>\n",
       "      <td>74.0</td>\n",
       "      <td>34.0</td>\n",
       "      <td>6.0</td>\n",
       "    </tr>\n",
       "  </tbody>\n",
       "</table>\n",
       "<p>1048524 rows × 12 columns</p>\n",
       "</div>"
      ],
      "text/plain": [
       "                                        date      low     high    close  \\\n",
       "timestamp                                                                 \n",
       "2010-01-01 00:52:00  01.01.2010 00:52:00.000  1.43266  1.43281  1.43275   \n",
       "2010-01-01 00:53:00  01.01.2010 00:53:00.000  1.43269  1.43285  1.43274   \n",
       "2010-01-01 00:54:00  01.01.2010 00:54:00.000  1.43278  1.43292  1.43278   \n",
       "2010-01-01 00:55:00  01.01.2010 00:55:00.000  1.43278  1.43291  1.43285   \n",
       "2010-01-01 00:56:00  01.01.2010 00:56:00.000  1.43277  1.43290  1.43282   \n",
       "...                                      ...      ...      ...      ...   \n",
       "2012-11-28 04:31:00  28.11.2012 04:31:00.000  1.29319  1.29337  1.29325   \n",
       "2012-11-28 04:32:00  28.11.2012 04:32:00.000  1.29314  1.29339  1.29330   \n",
       "2012-11-28 04:33:00  28.11.2012 04:33:00.000  1.29323  1.29338  1.29326   \n",
       "2012-11-28 04:34:00  28.11.2012 04:34:00.000  1.29326  1.29336  1.29334   \n",
       "2012-11-28 04:35:00  28.11.2012 04:35:00.000  1.29331  1.29339  1.29334   \n",
       "\n",
       "                        open  realbody  direction  ushadow_width  \\\n",
       "timestamp                                                          \n",
       "2010-01-01 00:52:00  1.43272   0.00003        1.0        0.00006   \n",
       "2010-01-01 00:53:00  1.43272   0.00002        1.0        0.00011   \n",
       "2010-01-01 00:54:00  1.43285  -0.00007       -1.0        0.00007   \n",
       "2010-01-01 00:55:00  1.43278   0.00007        1.0        0.00006   \n",
       "2010-01-01 00:56:00  1.43284  -0.00002       -1.0        0.00006   \n",
       "...                      ...       ...        ...            ...   \n",
       "2012-11-28 04:31:00  1.29324   0.00001        1.0        0.00012   \n",
       "2012-11-28 04:32:00  1.29326   0.00004        1.0        0.00009   \n",
       "2012-11-28 04:33:00  1.29328  -0.00002       -1.0        0.00010   \n",
       "2012-11-28 04:34:00  1.29326   0.00008        1.0        0.00002   \n",
       "2012-11-28 04:35:00  1.29333   0.00001        1.0        0.00005   \n",
       "\n",
       "                     lshadow_width  ushadow_per  lshadow_per  realbody_per  \n",
       "timestamp                                                                   \n",
       "2010-01-01 00:52:00        0.00006         78.0         70.0          16.0  \n",
       "2010-01-01 00:53:00        0.00003         92.0         44.0           8.0  \n",
       "2010-01-01 00:54:00        0.00000         84.0          0.0          46.0  \n",
       "2010-01-01 00:55:00        0.00000         72.0          0.0          44.0  \n",
       "2010-01-01 00:56:00        0.00005         70.0         58.0           8.0  \n",
       "...                            ...          ...          ...           ...  \n",
       "2012-11-28 04:31:00        0.00005         92.0         64.0           6.0  \n",
       "2012-11-28 04:32:00        0.00012         88.0         96.0          50.0  \n",
       "2012-11-28 04:33:00        0.00003         88.0         58.0          24.0  \n",
       "2012-11-28 04:34:00        0.00000         58.0          0.0          86.0  \n",
       "2012-11-28 04:35:00        0.00002         74.0         34.0           6.0  \n",
       "\n",
       "[1048524 rows x 12 columns]"
      ]
     },
     "execution_count": 9,
     "metadata": {},
     "output_type": "execute_result"
    }
   ],
   "source": [
    "M.data_pro_df"
   ]
  },
  {
   "cell_type": "markdown",
   "metadata": {},
   "source": [
    "#### 2. Data Labeling"
   ]
  },
  {
   "cell_type": "markdown",
   "metadata": {},
   "source": [
    "- 以線性回歸的斜率分別計算前7, 8, 9根k棒的趨勢，斜率大於0則趨勢為正，位於趨勢線最尾端的資料在trend欄位的值為1；反之則為-1。而斜率為0則輸出0。\n",
    "- 以10根k棒為單位進行偵測，如符合特定交易訊號，則第10根k棒的資料在該交易訊號的欄位的值為1；反之則為0。而如均不符合任何交易訊號，則第10根k棒的資料在None的欄位的值為1。\n",
    "- 印出在每個交易訊號下偵測到的pattern總數量。"
   ]
  },
  {
   "cell_type": "code",
   "execution_count": 10,
   "metadata": {},
   "outputs": [
    {
     "name": "stderr",
     "output_type": "stream",
     "text": [
      "100%|█████████████████████████████████████████████████████████████████████| 1048524/1048524 [11:00:22<00:00, 26.46it/s]\n"
     ]
    },
    {
     "name": "stdout",
     "output_type": "stream",
     "text": [
      "Time Scale: 1m\n",
      "Period: 2010-01-01 01:01:00 - 2012-11-28 04:35:00\n",
      "The Number of Patterns in Each Signal:\n",
      "None: 913206\n",
      "BearishEngulfing: 34559\n",
      "BullishEngulfing: 34908\n",
      "BullishPinBar: 31960\n",
      "BearishPinBar: 21564\n"
     ]
    }
   ],
   "source": [
    "M.detect()"
   ]
  },
  {
   "cell_type": "markdown",
   "metadata": {},
   "source": [
    "#### 3. Graphing"
   ]
  },
  {
   "cell_type": "markdown",
   "metadata": {},
   "source": [
    "Bearish Engulfing:\n",
    "1. 前7根趨勢為正\n",
    "2. 第9根的Close一定要大於/等於第9根的Open\n",
    "3. 第10根的Open一定要大於/等於第10根的Close\n",
    "4. 第9根的Close一定要大於/等於第10根的Open\n",
    "5. 第10跟的Close一定要大於/等於第9根的Open"
   ]
  },
  {
   "cell_type": "code",
   "execution_count": 12,
   "metadata": {},
   "outputs": [
    {
     "name": "stderr",
     "output_type": "stream",
     "text": [
      "\r",
      "  0%|                                                                                            | 0/1 [00:00<?, ?it/s]"
     ]
    },
    {
     "data": {
      "image/png": "[encoded data removed]",
      "text/plain": [
       "<Figure size 1296x864 with 1 Axes>"
      ]
     },
     "metadata": {
      "needs_background": "light"
     },
     "output_type": "display_data"
    },
    {
     "name": "stderr",
     "output_type": "stream",
     "text": [
      "100%|████████████████████████████████████████████████████████████████████████████████████| 1/1 [00:00<00:00,  2.96it/s]\n"
     ]
    }
   ],
   "source": [
    "M.graph(\"BearishEngulfing\")"
   ]
  },
  {
   "cell_type": "markdown",
   "metadata": {},
   "source": [
    "Bullish Engulfing:\n",
    "1. 前7根趨勢為負\n",
    "2. 第9根的Close一定要大於/等於第9根的Open\n",
    "3. 第10根的Open一定要大於/等於第10根的Close\n",
    "4. 第9根的Close一定要大於/等於第10根的Open\n",
    "5. 第10跟的Close一定要大於/等於第9根的Open"
   ]
  },
  {
   "cell_type": "code",
   "execution_count": 13,
   "metadata": {},
   "outputs": [
    {
     "name": "stderr",
     "output_type": "stream",
     "text": [
      "\r",
      "  0%|                                                                                            | 0/1 [00:00<?, ?it/s]"
     ]
    },
    {
     "data": {
      "image/png": "[encoded data removed]",
      "text/plain": [
       "<Figure size 1296x864 with 1 Axes>"
      ]
     },
     "metadata": {
      "needs_background": "light"
     },
     "output_type": "display_data"
    },
    {
     "name": "stderr",
     "output_type": "stream",
     "text": [
      "100%|████████████████████████████████████████████████████████████████████████████████████| 1/1 [00:00<00:00,  2.99it/s]\n"
     ]
    }
   ],
   "source": [
    "M.graph(\"BullishEngulfing\")"
   ]
  },
  {
   "cell_type": "markdown",
   "metadata": {},
   "source": [
    "Bullish Pin Bar:\n",
    "1. 第十根的Close一定要大過/等於第十根的Open\n",
    "2. 第十根的Open一定要大過從High減掉1/3的High-Low"
   ]
  },
  {
   "cell_type": "code",
   "execution_count": 14,
   "metadata": {},
   "outputs": [
    {
     "name": "stderr",
     "output_type": "stream",
     "text": [
      "\r",
      "  0%|                                                                                            | 0/1 [00:00<?, ?it/s]"
     ]
    },
    {
     "data": {
      "image/png": "[encoded data removed]",
      "text/plain": [
       "<Figure size 1296x864 with 1 Axes>"
      ]
     },
     "metadata": {
      "needs_background": "light"
     },
     "output_type": "display_data"
    },
    {
     "name": "stderr",
     "output_type": "stream",
     "text": [
      "100%|████████████████████████████████████████████████████████████████████████████████████| 1/1 [00:00<00:00,  2.48it/s]\n"
     ]
    }
   ],
   "source": [
    "M.graph('BullishPinBar')"
   ]
  },
  {
   "cell_type": "markdown",
   "metadata": {},
   "source": [
    "Bearish Pin Bar: \n",
    "1. 第十根的Close一定要小過/等於第十根的Open\n",
    "2. 第十根的Open一定要效果從Low加上1/3的High-Low"
   ]
  },
  {
   "cell_type": "code",
   "execution_count": 15,
   "metadata": {},
   "outputs": [
    {
     "name": "stderr",
     "output_type": "stream",
     "text": [
      "\r",
      "  0%|                                                                                            | 0/1 [00:00<?, ?it/s]"
     ]
    },
    {
     "data": {
      "image/png": "[encoded data removed]",
      "text/plain": [
       "<Figure size 1296x864 with 1 Axes>"
      ]
     },
     "metadata": {
      "needs_background": "light"
     },
     "output_type": "display_data"
    },
    {
     "name": "stderr",
     "output_type": "stream",
     "text": [
      "100%|████████████████████████████████████████████████████████████████████████████████████| 1/1 [00:00<00:00,  2.48it/s]\n"
     ]
    }
   ],
   "source": [
    "M.graph('BearishPinBar')"
   ]
  },
  {
   "cell_type": "markdown",
   "metadata": {},
   "source": [
    "## 三、參考資料"
   ]
  },
  {
   "cell_type": "markdown",
   "metadata": {},
   "source": [
    "- Stephen W. Bigalow. THE MAJOR CANDLESTICKS SIGNALS “12 Signals to Master any Market”. The Candlestick Forum LLC.\n",
    "- [PecuLab Github](https://github.com/pecu/FinTech_CommonWealth_Magazine/tree/master/Financial_Innovation/FiancailVision/HW1_ID_%E5%A7%93%E5%90%8D)"
   ]
  },
  {
   "cell_type": "code",
   "execution_count": null,
   "metadata": {},
   "outputs": [],
   "source": []
  }
 ],
 "metadata": {
  "kernelspec": {
   "display_name": "Python 3",
   "language": "python",
   "name": "python3"
  },
  "language_info": {
   "codemirror_mode": {
    "name": "ipython",
    "version": 3
   },
   "file_extension": ".py",
   "mimetype": "text/x-python",
   "name": "python",
   "nbconvert_exporter": "python",
   "pygments_lexer": "ipython3",
   "version": "3.8.3"
  }
 },
 "nbformat": 4,
 "nbformat_minor": 4
}
