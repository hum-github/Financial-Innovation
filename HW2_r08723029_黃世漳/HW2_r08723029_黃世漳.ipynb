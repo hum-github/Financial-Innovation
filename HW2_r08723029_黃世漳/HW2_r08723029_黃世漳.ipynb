{
 "cells": [
  {
   "cell_type": "markdown",
   "metadata": {
    "id": "Ir13Qbf2c5v_"
   },
   "source": [
    "#### 1. Use LSTM & CNN model to classify MNIST\n",
    "* mnist_train_all.py"
   ]
  },
  {
   "cell_type": "code",
   "execution_count": 20,
   "metadata": {
    "id": "1n_xF2kacsIF"
   },
   "outputs": [],
   "source": [
    "from sklearn.metrics import confusion_matrix\n",
    "import keras\n",
    "from keras.layers import LSTM\n",
    "from keras.layers import Dense, Activation, Conv2D, MaxPool2D, Dropout, Flatten\n",
    "from keras.datasets import mnist\n",
    "from keras.models import Sequential\n",
    "from keras.optimizers import Adam\n",
    "\n",
    "\n",
    "def lstm_preprocess(x_train, x_test, y_train, y_test, n_step, n_input, n_classes):\n",
    "    x_train = x_train.reshape(-1, n_step, n_input)\n",
    "    x_test = x_test.reshape(-1, n_step, n_input)\n",
    "    x_train = x_train.astype('float32')\n",
    "    x_test = x_test.astype('float32')\n",
    "    x_train /= 255\n",
    "    x_test /= 255\n",
    "    y_train = keras.utils.to_categorical(y_train, n_classes)\n",
    "    y_test = keras.utils.to_categorical(y_test, n_classes)\n",
    "    return (x_train, x_test, y_train, y_test)\n",
    "\n",
    "def cnn_preprocess(x_train, x_test, y_train, y_test):\n",
    "    x_train = x_train.reshape(-1, 28, 28, 1)\n",
    "    x_test = x_test.reshape(-1, 28, 28, 1)\n",
    "    x_train = x_train.astype('float32')\n",
    "    x_test = x_test.astype('float32')\n",
    "    x_train /= 255\n",
    "    x_test /= 255\n",
    "    y_train = keras.utils.to_categorical(y_train, 10)\n",
    "    y_test = keras.utils.to_categorical(y_test, 10)\n",
    "    return (x_train, x_test, y_train, y_test)\n",
    "\n",
    "def lstm_model(n_input, n_step, n_hidden, n_classes):\n",
    "    model = Sequential()\n",
    "    model.add(LSTM(n_hidden, batch_input_shape=(None, n_step, n_input), unroll=True))\n",
    "    model.add(Dense(n_classes))\n",
    "    model.add(Activation('softmax'))\n",
    "    return model\n",
    "\n",
    "def cnn_model():\n",
    "    model = Sequential()\n",
    "    model.add(Conv2D(filters=32, kernel_size=(5,5), padding='same', activation='relu', input_shape=(28, 28, 1)))\n",
    "    model.add(MaxPool2D(strides=2))\n",
    "    model.add(Conv2D(filters=48, kernel_size=(5,5), padding='valid', activation='relu'))\n",
    "    model.add(MaxPool2D(strides=2))\n",
    "    model.add(Flatten())\n",
    "    model.add(Dense(256, activation='relu'))\n",
    "    model.add(Dense(84, activation='relu'))\n",
    "    model.add(Dense(10, activation='softmax'))\n",
    "    return model\n",
    "\n",
    "def trainning(model, x_train, y_train, x_test, y_test, \n",
    "              learning_rate, training_iters, batch_size):\n",
    "    adam = Adam(lr=learning_rate)\n",
    "    model.summary()\n",
    "    model.compile(optimizer=adam, loss='categorical_crossentropy', metrics=['accuracy'])\n",
    "    model.fit(x_train, y_train,\n",
    "              batch_size=batch_size, epochs=training_iters,\n",
    "              verbose=1, validation_data=(x_test, y_test))\n",
    "\n",
    "def print_confusion_result(x_train, x_test, y_train, y_test, model):\n",
    "    # get train & test predictions\n",
    "    train_pred = model.predict_classes(x_train)\n",
    "    test_pred = model.predict_classes(x_test)\n",
    "    \n",
    "    # get train & test true labels\n",
    "    train_label = y_train\n",
    "    test_label =  y_test\n",
    "    \n",
    "    # confusion matrix\n",
    "    train_result_cm = confusion_matrix(train_label, train_pred, labels=range(10))\n",
    "    test_result_cm = confusion_matrix(test_label, test_pred, labels=range(10))\n",
    "    print(train_result_cm, '\\n'*2, test_result_cm)\n",
    "\n",
    "def mnist_lstm_main():\n",
    "    # training parameters\n",
    "    learning_rate = 0.001\n",
    "    training_iters = 1\n",
    "    batch_size = 128\n",
    "\n",
    "    # model parameters\n",
    "    n_input = 28\n",
    "    n_step = 28\n",
    "    n_hidden = 256\n",
    "    n_classes = 10\n",
    "\n",
    "    (x_train, y_train), (x_test, y_test) = mnist.load_data()\n",
    "    x_train, x_test, y_train_o, y_test_o = lstm_preprocess(x_train, x_test, y_train, y_test, n_step, n_input, n_classes)\n",
    "\n",
    "    model = lstm_model(n_input, n_step, n_hidden, n_classes)\n",
    "    trainning(model, x_train, y_train_o, x_test, y_test_o, learning_rate, training_iters, batch_size)\n",
    "    scores = model.evaluate(x_test, y_test_o, verbose=0)\n",
    "    print('LSTM test accuracy:', scores[1])\n",
    "    print_confusion_result(x_train, x_test, y_train, y_test, model)\n",
    "\n",
    "def mnist_cnn_main():\n",
    "    # training parameters\n",
    "    learning_rate = 0.001\n",
    "    training_iters = 3\n",
    "    batch_size = 10\n",
    "\n",
    "    (x_train, y_train), (x_test, y_test) = mnist.load_data()\n",
    "    x_train, x_test, y_train_o, y_test_o = cnn_preprocess(x_train, x_test, y_train, y_test)\n",
    "\n",
    "    model = cnn_model()\n",
    "    trainning(model, x_train, y_train_o, x_test, y_test_o, learning_rate, training_iters, batch_size)\n",
    "    scores = model.evaluate(x_test, y_test_o, verbose=0)\n",
    "    print('CNN test accuracy:', scores[1])\n",
    "    print_confusion_result(x_train, x_test, y_train, y_test, model)"
   ]
  },
  {
   "cell_type": "markdown",
   "metadata": {
    "id": "ZbLS04C5cxnQ"
   },
   "source": [
    "- LSTM"
   ]
  },
  {
   "cell_type": "code",
   "execution_count": 21,
   "metadata": {
    "colab": {
     "base_uri": "https://localhost:8080/"
    },
    "id": "bJaO2RwWcu8C",
    "outputId": "0275eba6-b48e-4e2f-f4cb-3e452a0a8b08"
   },
   "outputs": [
    {
     "name": "stdout",
     "output_type": "stream",
     "text": [
      "Model: \"sequential_8\"\n",
      "_________________________________________________________________\n",
      "Layer (type)                 Output Shape              Param #   \n",
      "=================================================================\n",
      "lstm (LSTM)                  (None, 256)               291840    \n",
      "_________________________________________________________________\n",
      "dense_24 (Dense)             (None, 10)                2570      \n",
      "_________________________________________________________________\n",
      "activation (Activation)      (None, 10)                0         \n",
      "=================================================================\n",
      "Total params: 294,410\n",
      "Trainable params: 294,410\n",
      "Non-trainable params: 0\n",
      "_________________________________________________________________\n",
      "469/469 [==============================] - 83s 170ms/step - loss: 0.8264 - accuracy: 0.7154 - val_loss: 0.1453 - val_accuracy: 0.9555\n",
      "LSTM test accuracy: 0.9555000066757202\n"
     ]
    },
    {
     "name": "stderr",
     "output_type": "stream",
     "text": [
      "/usr/local/lib/python3.6/dist-packages/tensorflow/python/keras/engine/sequential.py:450: UserWarning: `model.predict_classes()` is deprecated and will be removed after 2021-01-01. Please use instead:* `np.argmax(model.predict(x), axis=-1)`,   if your model does multi-class classification   (e.g. if it uses a `softmax` last-layer activation).* `(model.predict(x) > 0.5).astype(\"int32\")`,   if your model does binary classification   (e.g. if it uses a `sigmoid` last-layer activation).\n",
      "  warnings.warn('`model.predict_classes()` is deprecated and '\n"
     ]
    },
    {
     "name": "stdout",
     "output_type": "stream",
     "text": [
      "[[5613    0   34    6    6  104   72    2   67   19]\n",
      " [   1 6605   25   36    6    8    7    3   39   12]\n",
      " [   8    5 5720   74    9   26   16   52   45    3]\n",
      " [   2   18   69 5841    0   73    3   16   97   12]\n",
      " [  17   13   18    1 5357   21  172   11   27  205]\n",
      " [   3    7   10   30    2 5327   17    2   18    5]\n",
      " [   9    4    6    0   13  124 5739    0   22    1]\n",
      " [   1   12   47   88    9   30    0 5955   22  101]\n",
      " [   8   17   15   82    5  151   11    2 5534   26]\n",
      " [  16    7   20   60   55  134    8   33   69 5547]] \n",
      "\n",
      " [[ 942    0    2    1    0   13   13    1    6    2]\n",
      " [   0 1117    4    1    1    0    3    0    9    0]\n",
      " [   3    1  995    9    0    3    4   11    6    0]\n",
      " [   0    2    8  977    0    6    0    5   10    2]\n",
      " [   1    0    3    0  904    6   29    0    7   32]\n",
      " [   2    0    0    7    0  874    1    1    7    0]\n",
      " [   4    1    1    0    2   23  924    0    3    0]\n",
      " [   0    2   18   19    1    4    0  966    6   12]\n",
      " [   2    0    2   15    3   26    2    2  917    5]\n",
      " [   2    4    1   10    4   22    4    1   22  939]]\n"
     ]
    }
   ],
   "source": [
    "mnist_lstm_main()"
   ]
  },
  {
   "cell_type": "markdown",
   "metadata": {
    "id": "vEjJZZ0oc0d6"
   },
   "source": [
    "- CNN <br/>\n",
    "如果把Epoch改成三次，Batch size改成10個，Accuracy可以提高至0.989，另外發現CNN在做MNIST上比LSTM好\n",
    "\n",
    "\n"
   ]
  },
  {
   "cell_type": "code",
   "execution_count": 19,
   "metadata": {
    "colab": {
     "base_uri": "https://localhost:8080/"
    },
    "id": "qWwfuUWOcu1U",
    "outputId": "3829c307-a7f0-4504-e6e3-1483a259e014"
   },
   "outputs": [
    {
     "name": "stdout",
     "output_type": "stream",
     "text": [
      "Model: \"sequential_7\"\n",
      "_________________________________________________________________\n",
      "Layer (type)                 Output Shape              Param #   \n",
      "=================================================================\n",
      "conv2d_14 (Conv2D)           (None, 28, 28, 32)        832       \n",
      "_________________________________________________________________\n",
      "max_pooling2d_14 (MaxPooling (None, 14, 14, 32)        0         \n",
      "_________________________________________________________________\n",
      "conv2d_15 (Conv2D)           (None, 10, 10, 48)        38448     \n",
      "_________________________________________________________________\n",
      "max_pooling2d_15 (MaxPooling (None, 5, 5, 48)          0         \n",
      "_________________________________________________________________\n",
      "flatten_7 (Flatten)          (None, 1200)              0         \n",
      "_________________________________________________________________\n",
      "dense_21 (Dense)             (None, 256)               307456    \n",
      "_________________________________________________________________\n",
      "dense_22 (Dense)             (None, 84)                21588     \n",
      "_________________________________________________________________\n",
      "dense_23 (Dense)             (None, 10)                850       \n",
      "=================================================================\n",
      "Total params: 369,174\n",
      "Trainable params: 369,174\n",
      "Non-trainable params: 0\n",
      "_________________________________________________________________\n",
      "Epoch 1/3\n",
      "6000/6000 [==============================] - 100s 17ms/step - loss: 0.2175 - accuracy: 0.9317 - val_loss: 0.0426 - val_accuracy: 0.9868\n",
      "Epoch 2/3\n",
      "6000/6000 [==============================] - 98s 16ms/step - loss: 0.0424 - accuracy: 0.9869 - val_loss: 0.0499 - val_accuracy: 0.9841\n",
      "Epoch 3/3\n",
      "6000/6000 [==============================] - 98s 16ms/step - loss: 0.0310 - accuracy: 0.9909 - val_loss: 0.0376 - val_accuracy: 0.9890\n",
      "CNN test accuracy: 0.9890000224113464\n"
     ]
    },
    {
     "name": "stderr",
     "output_type": "stream",
     "text": [
      "/usr/local/lib/python3.6/dist-packages/tensorflow/python/keras/engine/sequential.py:450: UserWarning: `model.predict_classes()` is deprecated and will be removed after 2021-01-01. Please use instead:* `np.argmax(model.predict(x), axis=-1)`,   if your model does multi-class classification   (e.g. if it uses a `softmax` last-layer activation).* `(model.predict(x) > 0.5).astype(\"int32\")`,   if your model does binary classification   (e.g. if it uses a `sigmoid` last-layer activation).\n",
      "  warnings.warn('`model.predict_classes()` is deprecated and '\n"
     ]
    },
    {
     "name": "stdout",
     "output_type": "stream",
     "text": [
      "[[5909    0    0    0    0    0    1    0    5    8]\n",
      " [   0 6707   12    0    2    0    1   16    3    1]\n",
      " [   0    2 5878    0    3    0    0   51   21    3]\n",
      " [   1    0    5 6087    0   15    0   10   12    1]\n",
      " [   0    4    0    0 5828    0    2    1    0    7]\n",
      " [   3    1    0    2    0 5403    5    1    4    2]\n",
      " [  19    5    2    0   16    5 5867    0    3    1]\n",
      " [   0    4    4    0   13    0    0 6235    0    9]\n",
      " [   0    2    1    0    8    4    4    4 5812   16]\n",
      " [   0    2    0    1   30    3    0    8    2 5903]] \n",
      "\n",
      " [[ 976    1    0    0    0    0    2    1    0    0]\n",
      " [   0 1132    0    0    0    0    0    3    0    0]\n",
      " [   2    1 1005    0    2    0    0   16    6    0]\n",
      " [   0    0    2 1001    0    1    0    4    2    0]\n",
      " [   0    0    0    0  979    0    1    0    0    2]\n",
      " [   2    0    0    4    0  884    1    1    0    0]\n",
      " [   8    3    0    0    5    3  938    0    1    0]\n",
      " [   0    2    0    0    1    0    0 1023    1    1]\n",
      " [   1    0    0    1    0    0    0    3  967    2]\n",
      " [   0    3    0    0   10    6    0    5    0  985]]\n"
     ]
    }
   ],
   "source": [
    "mnist_cnn_main()"
   ]
  },
  {
   "cell_type": "markdown",
   "metadata": {
    "id": "DKEwiw4Mn4WY"
   },
   "source": [
    "# Reference\n"
   ]
  },
  {
   "cell_type": "markdown",
   "metadata": {
    "id": "YelZykjjn-HY"
   },
   "source": [
    "[PecuLab Github](https://github.com/pecu/FinTech_CommonWealth_Magazine/tree/master/Financial_Innovation/FiancailVision/HW2_ID_%E5%A7%93%E5%90%8D)"
   ]
  }
 ],
 "metadata": {
  "accelerator": "TPU",
  "colab": {
   "collapsed_sections": [],
   "name": "HW2_r08723029_黃世漳.ipynb",
   "provenance": []
  },
  "kernelspec": {
   "display_name": "Python 3",
   "language": "python",
   "name": "python3"
  },
  "language_info": {
   "codemirror_mode": {
    "name": "ipython",
    "version": 3
   },
   "file_extension": ".py",
   "mimetype": "text/x-python",
   "name": "python",
   "nbconvert_exporter": "python",
   "pygments_lexer": "ipython3",
   "version": "3.8.3"
  }
 },
 "nbformat": 4,
 "nbformat_minor": 1
}
